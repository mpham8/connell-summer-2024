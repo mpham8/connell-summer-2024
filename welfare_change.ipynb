{
 "cells": [
  {
   "cell_type": "markdown",
   "metadata": {},
   "source": [
    "Import Libraries"
   ]
  },
  {
   "cell_type": "code",
   "execution_count": 211,
   "metadata": {},
   "outputs": [],
   "source": [
    "import scipy.io\n",
    "import matplotlib.pyplot as plt\n",
    "import seaborn as sns\n",
    "import pandas as pd\n",
    "import numpy as np"
   ]
  },
  {
   "cell_type": "markdown",
   "metadata": {},
   "source": [
    "File Config"
   ]
  },
  {
   "cell_type": "code",
   "execution_count": 212,
   "metadata": {},
   "outputs": [],
   "source": [
    "files = ['just_dshock_dlim.mat', \n",
    "         'just_policy_dlim.mat', \n",
    "         'dshock_policy_dlim.mat',\n",
    "         'just_dshock_ylim.mat', \n",
    "         'just_policy_ylim.mat', \n",
    "         'dshock_policy_ylim.mat',\n",
    "         'just_dshock_klim.mat', \n",
    "         'just_policy_klim.mat', \n",
    "         'dshock_policy_klim.mat',\n",
    "         'just_dshock_h_klim.mat', \n",
    "         'just_policy_h_klim.mat', \n",
    "         'dshock_policy_h_klim.mat',\n",
    "         'just_dshock_h.mat', \n",
    "         'just_policy_h.mat', \n",
    "         'dshock_policy_h.mat'] \n",
    "experiment_names = ['Fixed debt limit - Debt Relief Only', \n",
    "                    'Fixed debt limit - Policy Reform Only', \n",
    "                    'Fixed debt limit- Debt Relief & Policy Reform',\n",
    "                    'GDP debt limit - Debt Relief Only', \n",
    "                    'GDP debt limit - Policy Reform Only', \n",
    "                    'GDP debt limit - Debt Relief & Policy Reform',\n",
    "                    'K debt limit - Debt Relief Only', \n",
    "                    'K debt limit - Policy Reform Only', \n",
    "                    'K debt limit - Debt Relief & Policy Reform',\n",
    "                    'Human capital, K debt limit - Debt Relief Only', \n",
    "                    'Human capital, K debt limit - Policy Reform Only', \n",
    "                    'Human capital debt limit - Debt Relief & Policy Reform',\n",
    "                    'Human capital, phi = 0.1, K debt limit - Debt Relief Only', \n",
    "                    'Human capital, phi = 0.1, K debt limit - Policy Reform Only', \n",
    "                    'Human capital, phi = 0.1, K debt limit - Debt Relief & Policy Reform']"
   ]
  },
  {
   "cell_type": "markdown",
   "metadata": {},
   "source": [
    "Read matlab file, create Dataframe"
   ]
  },
  {
   "cell_type": "code",
   "execution_count": 213,
   "metadata": {},
   "outputs": [],
   "source": [
    "c_hash = {}\n",
    "\n",
    "for file, exp_name in zip(files, experiment_names):\n",
    "    data = scipy.io.loadmat(file)\n",
    "    c_array = data[\"C\"]\n",
    "    c_hash[exp_name] = c_array\n",
    "    #print(c_array[1])\n",
    "        "
   ]
  },
  {
   "cell_type": "markdown",
   "metadata": {},
   "source": [
    "Calculation"
   ]
  },
  {
   "cell_type": "code",
   "execution_count": 214,
   "metadata": {},
   "outputs": [],
   "source": [
    "rho = 0.07\n",
    "gamma = 2\n",
    "beta = 1/(1+rho)\n",
    "periods = len(c_hash[experiment_names[0]])\n",
    "\n",
    "v_array = rho * np.array([beta ** i for i in range(periods)]) #compute v array\n",
    "\n",
    "welfares = {}\n",
    "for exp in experiment_names:\n",
    "  c_array_ppt = c_hash[exp] #c array expressed as percentage points\n",
    "\n",
    "  c_array_decimal = 1 + c_array_ppt/100 #convert percentage points to decimal\n",
    "\n",
    "  c_array_gammaexp = c_array_decimal ** (1-gamma) #1-gamma exponent\n",
    "\n",
    "  dot_product = np.dot(v_array, c_array_decimal) #dot product\n",
    "\n",
    "  welfares[exp] = dot_product.item()"
   ]
  },
  {
   "cell_type": "code",
   "execution_count": 215,
   "metadata": {},
   "outputs": [],
   "source": [
    "v_array = rho * np.array([beta ** i for i in range(100)]) #compute v array\n",
    "total_sum = np.sum(v_array)"
   ]
  },
  {
   "cell_type": "markdown",
   "metadata": {},
   "source": [
    "Display calculations"
   ]
  },
  {
   "cell_type": "code",
   "execution_count": 216,
   "metadata": {},
   "outputs": [
    {
     "data": {
      "text/html": [
       "<div>\n",
       "<style scoped>\n",
       "    .dataframe tbody tr th:only-of-type {\n",
       "        vertical-align: middle;\n",
       "    }\n",
       "\n",
       "    .dataframe tbody tr th {\n",
       "        vertical-align: top;\n",
       "    }\n",
       "\n",
       "    .dataframe thead th {\n",
       "        text-align: right;\n",
       "    }\n",
       "</style>\n",
       "<table border=\"1\" class=\"dataframe\">\n",
       "  <thead>\n",
       "    <tr style=\"text-align: right;\">\n",
       "      <th></th>\n",
       "      <th>model</th>\n",
       "      <th>welfare % change</th>\n",
       "    </tr>\n",
       "  </thead>\n",
       "  <tbody>\n",
       "    <tr>\n",
       "      <th>0</th>\n",
       "      <td>Fixed debt limit - Debt Relief Only</td>\n",
       "      <td>1.098170</td>\n",
       "    </tr>\n",
       "    <tr>\n",
       "      <th>1</th>\n",
       "      <td>Fixed debt limit - Policy Reform Only</td>\n",
       "      <td>1.075715</td>\n",
       "    </tr>\n",
       "    <tr>\n",
       "      <th>2</th>\n",
       "      <td>Fixed debt limit- Debt Relief &amp; Policy Reform</td>\n",
       "      <td>1.103882</td>\n",
       "    </tr>\n",
       "    <tr>\n",
       "      <th>3</th>\n",
       "      <td>GDP debt limit - Debt Relief Only</td>\n",
       "      <td>1.097768</td>\n",
       "    </tr>\n",
       "    <tr>\n",
       "      <th>4</th>\n",
       "      <td>GDP debt limit - Policy Reform Only</td>\n",
       "      <td>1.075824</td>\n",
       "    </tr>\n",
       "    <tr>\n",
       "      <th>5</th>\n",
       "      <td>GDP debt limit - Debt Relief &amp; Policy Reform</td>\n",
       "      <td>1.103706</td>\n",
       "    </tr>\n",
       "    <tr>\n",
       "      <th>6</th>\n",
       "      <td>K debt limit - Debt Relief Only</td>\n",
       "      <td>1.096579</td>\n",
       "    </tr>\n",
       "    <tr>\n",
       "      <th>7</th>\n",
       "      <td>K debt limit - Policy Reform Only</td>\n",
       "      <td>1.076385</td>\n",
       "    </tr>\n",
       "    <tr>\n",
       "      <th>8</th>\n",
       "      <td>K debt limit - Debt Relief &amp; Policy Reform</td>\n",
       "      <td>1.103087</td>\n",
       "    </tr>\n",
       "    <tr>\n",
       "      <th>9</th>\n",
       "      <td>Human capital, K debt limit - Debt Relief Only</td>\n",
       "      <td>1.109124</td>\n",
       "    </tr>\n",
       "    <tr>\n",
       "      <th>10</th>\n",
       "      <td>Human capital, K debt limit - Policy Reform Only</td>\n",
       "      <td>1.074063</td>\n",
       "    </tr>\n",
       "    <tr>\n",
       "      <th>11</th>\n",
       "      <td>Human capital debt limit - Debt Relief &amp; Polic...</td>\n",
       "      <td>1.112479</td>\n",
       "    </tr>\n",
       "    <tr>\n",
       "      <th>12</th>\n",
       "      <td>Human capital, phi = 0.1, K debt limit - Debt ...</td>\n",
       "      <td>1.129180</td>\n",
       "    </tr>\n",
       "    <tr>\n",
       "      <th>13</th>\n",
       "      <td>Human capital, phi = 0.1, K debt limit - Polic...</td>\n",
       "      <td>1.088236</td>\n",
       "    </tr>\n",
       "    <tr>\n",
       "      <th>14</th>\n",
       "      <td>Human capital, phi = 0.1, K debt limit - Debt ...</td>\n",
       "      <td>1.147751</td>\n",
       "    </tr>\n",
       "  </tbody>\n",
       "</table>\n",
       "</div>"
      ],
      "text/plain": [
       "                                                model  welfare % change\n",
       "0                 Fixed debt limit - Debt Relief Only          1.098170\n",
       "1               Fixed debt limit - Policy Reform Only          1.075715\n",
       "2       Fixed debt limit- Debt Relief & Policy Reform          1.103882\n",
       "3                   GDP debt limit - Debt Relief Only          1.097768\n",
       "4                 GDP debt limit - Policy Reform Only          1.075824\n",
       "5        GDP debt limit - Debt Relief & Policy Reform          1.103706\n",
       "6                     K debt limit - Debt Relief Only          1.096579\n",
       "7                   K debt limit - Policy Reform Only          1.076385\n",
       "8          K debt limit - Debt Relief & Policy Reform          1.103087\n",
       "9      Human capital, K debt limit - Debt Relief Only          1.109124\n",
       "10   Human capital, K debt limit - Policy Reform Only          1.074063\n",
       "11  Human capital debt limit - Debt Relief & Polic...          1.112479\n",
       "12  Human capital, phi = 0.1, K debt limit - Debt ...          1.129180\n",
       "13  Human capital, phi = 0.1, K debt limit - Polic...          1.088236\n",
       "14  Human capital, phi = 0.1, K debt limit - Debt ...          1.147751"
      ]
     },
     "execution_count": 216,
     "metadata": {},
     "output_type": "execute_result"
    }
   ],
   "source": [
    "welfares_df = pd.DataFrame(list(welfares.items()), columns=['model', 'welfare % change'])\n",
    "welfares_df"
   ]
  },
  {
   "cell_type": "markdown",
   "metadata": {},
   "source": [
    "Export to csv"
   ]
  },
  {
   "cell_type": "code",
   "execution_count": 217,
   "metadata": {},
   "outputs": [],
   "source": [
    "welfares_df.to_csv(\"welfare_changes.csv\", index=False)"
   ]
  }
 ],
 "metadata": {
  "kernelspec": {
   "display_name": "Python 3",
   "language": "python",
   "name": "python3"
  },
  "language_info": {
   "codemirror_mode": {
    "name": "ipython",
    "version": 3
   },
   "file_extension": ".py",
   "mimetype": "text/x-python",
   "name": "python",
   "nbconvert_exporter": "python",
   "pygments_lexer": "ipython3",
   "version": "3.12.1"
  }
 },
 "nbformat": 4,
 "nbformat_minor": 2
}
