{
 "cells": [
  {
   "cell_type": "markdown",
   "metadata": {},
   "source": [
    "Import Libraries"
   ]
  },
  {
   "cell_type": "code",
   "execution_count": 1,
   "metadata": {},
   "outputs": [],
   "source": [
    "import scipy.io\n",
    "import matplotlib.pyplot as plt\n",
    "import seaborn as sns\n",
    "import pandas as pd\n",
    "import numpy as np"
   ]
  },
  {
   "cell_type": "markdown",
   "metadata": {},
   "source": [
    "File Config"
   ]
  },
  {
   "cell_type": "code",
   "execution_count": 2,
   "metadata": {},
   "outputs": [],
   "source": [
    "files = ['just_dshock_dlim.mat', \n",
    "         'just_policy_dlim.mat', \n",
    "         'dshock_policy_dlim.mat',\n",
    "         'just_dshock_ylim.mat', \n",
    "         'just_policy_ylim.mat', \n",
    "         'dshock_policy_ylim.mat',\n",
    "         'just_dshock_klim.mat', \n",
    "         'just_policy_klim.mat', \n",
    "         'dshock_policy_klim.mat',\n",
    "         'just_dshock_h_klim.mat', \n",
    "         'just_policy_h_klim.mat', \n",
    "         'dshock_policy_h_klim.mat',\n",
    "         'just_dshock_h.mat', \n",
    "         'just_policy_h.mat', \n",
    "         'dshock_policy_h.mat',\n",
    "         'just_dshock_h_rho0.mat', \n",
    "         'just_policy_h_rho0.mat', \n",
    "         'dshock_policy_h_rho0.mat',\n",
    "         'just_dshock_h_rho10.mat', \n",
    "         'just_policy_h_rho10.mat', \n",
    "         'dshock_policy_h_rho10.mat'] \n",
    "\n",
    "experiment_names = ['Fixed debt limit - Debt Relief Only', \n",
    "                    'Fixed debt limit - Policy Reform Only', \n",
    "                    'Fixed debt limit- Debt Relief & Policy Reform',\n",
    "                    'GDP debt limit - Debt Relief Only', \n",
    "                    'GDP debt limit - Policy Reform Only', \n",
    "                    'GDP debt limit - Debt Relief & Policy Reform',\n",
    "                    'K debt limit - Debt Relief Only', \n",
    "                    'K debt limit - Policy Reform Only', \n",
    "                    'K debt limit - Debt Relief & Policy Reform',\n",
    "                    'Human capital, phi = 0, K debt limit - Debt Relief Only', \n",
    "                    'Human capital, phi = 0, K debt limit - Policy Reform Only', \n",
    "                    'Human capital, phi = 0, K debt limit - Debt Relief & Policy Reform',\n",
    "                    'Human capital, phi = 0.1, K debt limit - Debt Relief Only', \n",
    "                    'Human capital, phi = 0.1, K debt limit - Policy Reform Only', \n",
    "                    'Human capital, phi = 0.1, K debt limit - Debt Relief & Policy Reform',\n",
    "                    'Discount Rate Policy, Human capital, phi = 0, K debt limit - Debt Relief Only', \n",
    "                    'Human capital, phi = 0, discount rate policy, K debt limit - Policy Reform Only', \n",
    "                    'Human capital, phi = 0, discount rate policy, K debt limit - Debt Relief & Policy Reform',\n",
    "                    'Human capital, phi = 0.1, discount rate policy, K debt limit - Debt Relief Only', \n",
    "                    'Human capital, phi = 0.1, discount rate policy, K debt limit - Policy Reform Only', \n",
    "                    'Human capital, phi = 0.1, discount rate policy, K debt limit - Debt Relief & Policy Reform']"
   ]
  },
  {
   "cell_type": "markdown",
   "metadata": {},
   "source": [
    "Read matlab file, create Dataframe"
   ]
  },
  {
   "cell_type": "code",
   "execution_count": 3,
   "metadata": {},
   "outputs": [],
   "source": [
    "c_hash = {}\n",
    "\n",
    "for file, exp_name in zip(files, experiment_names):\n",
    "    data = scipy.io.loadmat(file)\n",
    "    c_array = data[\"C\"]\n",
    "    c_hash[exp_name] = c_array\n",
    "    #print(c_array[1])\n",
    "        "
   ]
  },
  {
   "cell_type": "markdown",
   "metadata": {},
   "source": [
    "Calculation"
   ]
  },
  {
   "cell_type": "code",
   "execution_count": 4,
   "metadata": {},
   "outputs": [],
   "source": [
    "rho = 0.07\n",
    "gamma = 2\n",
    "beta = 1/(1+rho)\n",
    "periods = len(c_hash[experiment_names[0]])\n",
    "\n",
    "v_array = rho * np.array([beta ** i for i in range(1, periods)]) #compute v array\n",
    "\n",
    "welfares = {}\n",
    "for exp in experiment_names:\n",
    "  c_array_ppt = c_hash[exp][1:] #c array expressed as percentage points\n",
    "\n",
    "  c_array_decimal = 1 + c_array_ppt/100 #convert percentage points to decimal\n",
    "\n",
    "  c_array_gammaexp = c_array_decimal ** (1-gamma) #1-gamma exponent\n",
    "\n",
    "  dot_product = np.dot(v_array, c_array_gammaexp) #dot product\n",
    "\n",
    "  result = dot_product ** (1/(1-gamma))\n",
    "\n",
    "  rounded_result = round((result.item() - 1)*100, 2)\n",
    "\n",
    "  welfares[exp] = rounded_result"
   ]
  },
  {
   "cell_type": "code",
   "execution_count": 5,
   "metadata": {},
   "outputs": [
    {
     "data": {
      "text/plain": [
       "0.9999987587459308"
      ]
     },
     "execution_count": 5,
     "metadata": {},
     "output_type": "execute_result"
    }
   ],
   "source": [
    "total_sum = np.sum(v_array)\n",
    "total_sum"
   ]
  },
  {
   "cell_type": "markdown",
   "metadata": {},
   "source": [
    "Display calculations"
   ]
  },
  {
   "cell_type": "code",
   "execution_count": 6,
   "metadata": {},
   "outputs": [
    {
     "data": {
      "text/html": [
       "<div>\n",
       "<style scoped>\n",
       "    .dataframe tbody tr th:only-of-type {\n",
       "        vertical-align: middle;\n",
       "    }\n",
       "\n",
       "    .dataframe tbody tr th {\n",
       "        vertical-align: top;\n",
       "    }\n",
       "\n",
       "    .dataframe thead th {\n",
       "        text-align: right;\n",
       "    }\n",
       "</style>\n",
       "<table border=\"1\" class=\"dataframe\">\n",
       "  <thead>\n",
       "    <tr style=\"text-align: right;\">\n",
       "      <th></th>\n",
       "      <th>model</th>\n",
       "      <th>welfare decimal change</th>\n",
       "    </tr>\n",
       "  </thead>\n",
       "  <tbody>\n",
       "    <tr>\n",
       "      <th>0</th>\n",
       "      <td>Fixed debt limit - Debt Relief Only</td>\n",
       "      <td>2.74</td>\n",
       "    </tr>\n",
       "    <tr>\n",
       "      <th>1</th>\n",
       "      <td>Fixed debt limit - Policy Reform Only</td>\n",
       "      <td>0.56</td>\n",
       "    </tr>\n",
       "    <tr>\n",
       "      <th>2</th>\n",
       "      <td>Fixed debt limit- Debt Relief &amp; Policy Reform</td>\n",
       "      <td>3.36</td>\n",
       "    </tr>\n",
       "    <tr>\n",
       "      <th>3</th>\n",
       "      <td>GDP debt limit - Debt Relief Only</td>\n",
       "      <td>2.70</td>\n",
       "    </tr>\n",
       "    <tr>\n",
       "      <th>4</th>\n",
       "      <td>GDP debt limit - Policy Reform Only</td>\n",
       "      <td>0.57</td>\n",
       "    </tr>\n",
       "    <tr>\n",
       "      <th>5</th>\n",
       "      <td>GDP debt limit - Debt Relief &amp; Policy Reform</td>\n",
       "      <td>3.34</td>\n",
       "    </tr>\n",
       "    <tr>\n",
       "      <th>6</th>\n",
       "      <td>K debt limit - Debt Relief Only</td>\n",
       "      <td>2.57</td>\n",
       "    </tr>\n",
       "    <tr>\n",
       "      <th>7</th>\n",
       "      <td>K debt limit - Policy Reform Only</td>\n",
       "      <td>0.63</td>\n",
       "    </tr>\n",
       "    <tr>\n",
       "      <th>8</th>\n",
       "      <td>K debt limit - Debt Relief &amp; Policy Reform</td>\n",
       "      <td>3.26</td>\n",
       "    </tr>\n",
       "    <tr>\n",
       "      <th>9</th>\n",
       "      <td>Human capital, phi = 0, K debt limit - Debt Re...</td>\n",
       "      <td>3.85</td>\n",
       "    </tr>\n",
       "    <tr>\n",
       "      <th>10</th>\n",
       "      <td>Human capital, phi = 0, K debt limit - Policy ...</td>\n",
       "      <td>0.30</td>\n",
       "    </tr>\n",
       "    <tr>\n",
       "      <th>11</th>\n",
       "      <td>Human capital, phi = 0, K debt limit - Debt Re...</td>\n",
       "      <td>4.24</td>\n",
       "    </tr>\n",
       "    <tr>\n",
       "      <th>12</th>\n",
       "      <td>Human capital, phi = 0.1, K debt limit - Debt ...</td>\n",
       "      <td>5.78</td>\n",
       "    </tr>\n",
       "    <tr>\n",
       "      <th>13</th>\n",
       "      <td>Human capital, phi = 0.1, K debt limit - Polic...</td>\n",
       "      <td>1.71</td>\n",
       "    </tr>\n",
       "    <tr>\n",
       "      <th>14</th>\n",
       "      <td>Human capital, phi = 0.1, K debt limit - Debt ...</td>\n",
       "      <td>7.77</td>\n",
       "    </tr>\n",
       "    <tr>\n",
       "      <th>15</th>\n",
       "      <td>Discount Rate Policy, Human capital, phi = 0, ...</td>\n",
       "      <td>3.85</td>\n",
       "    </tr>\n",
       "    <tr>\n",
       "      <th>16</th>\n",
       "      <td>Human capital, phi = 0, discount rate policy, ...</td>\n",
       "      <td>0.25</td>\n",
       "    </tr>\n",
       "    <tr>\n",
       "      <th>17</th>\n",
       "      <td>Human capital, phi = 0, discount rate policy, ...</td>\n",
       "      <td>4.14</td>\n",
       "    </tr>\n",
       "    <tr>\n",
       "      <th>18</th>\n",
       "      <td>Human capital, phi = 0.1, discount rate policy...</td>\n",
       "      <td>5.78</td>\n",
       "    </tr>\n",
       "    <tr>\n",
       "      <th>19</th>\n",
       "      <td>Human capital, phi = 0.1, discount rate policy...</td>\n",
       "      <td>1.04</td>\n",
       "    </tr>\n",
       "    <tr>\n",
       "      <th>20</th>\n",
       "      <td>Human capital, phi = 0.1, discount rate policy...</td>\n",
       "      <td>6.86</td>\n",
       "    </tr>\n",
       "  </tbody>\n",
       "</table>\n",
       "</div>"
      ],
      "text/plain": [
       "                                                model  welfare decimal change\n",
       "0                 Fixed debt limit - Debt Relief Only                    2.74\n",
       "1               Fixed debt limit - Policy Reform Only                    0.56\n",
       "2       Fixed debt limit- Debt Relief & Policy Reform                    3.36\n",
       "3                   GDP debt limit - Debt Relief Only                    2.70\n",
       "4                 GDP debt limit - Policy Reform Only                    0.57\n",
       "5        GDP debt limit - Debt Relief & Policy Reform                    3.34\n",
       "6                     K debt limit - Debt Relief Only                    2.57\n",
       "7                   K debt limit - Policy Reform Only                    0.63\n",
       "8          K debt limit - Debt Relief & Policy Reform                    3.26\n",
       "9   Human capital, phi = 0, K debt limit - Debt Re...                    3.85\n",
       "10  Human capital, phi = 0, K debt limit - Policy ...                    0.30\n",
       "11  Human capital, phi = 0, K debt limit - Debt Re...                    4.24\n",
       "12  Human capital, phi = 0.1, K debt limit - Debt ...                    5.78\n",
       "13  Human capital, phi = 0.1, K debt limit - Polic...                    1.71\n",
       "14  Human capital, phi = 0.1, K debt limit - Debt ...                    7.77\n",
       "15  Discount Rate Policy, Human capital, phi = 0, ...                    3.85\n",
       "16  Human capital, phi = 0, discount rate policy, ...                    0.25\n",
       "17  Human capital, phi = 0, discount rate policy, ...                    4.14\n",
       "18  Human capital, phi = 0.1, discount rate policy...                    5.78\n",
       "19  Human capital, phi = 0.1, discount rate policy...                    1.04\n",
       "20  Human capital, phi = 0.1, discount rate policy...                    6.86"
      ]
     },
     "execution_count": 6,
     "metadata": {},
     "output_type": "execute_result"
    }
   ],
   "source": [
    "welfares_df = pd.DataFrame(list(welfares.items()), columns=['model', 'welfare decimal change'])\n",
    "welfares_df"
   ]
  },
  {
   "cell_type": "markdown",
   "metadata": {},
   "source": [
    "Export to csv"
   ]
  },
  {
   "cell_type": "code",
   "execution_count": 7,
   "metadata": {},
   "outputs": [],
   "source": [
    "welfares_df.to_csv(\"welfare_changes.csv\", index=False)"
   ]
  }
 ],
 "metadata": {
  "kernelspec": {
   "display_name": "Python 3",
   "language": "python",
   "name": "python3"
  },
  "language_info": {
   "codemirror_mode": {
    "name": "ipython",
    "version": 3
   },
   "file_extension": ".py",
   "mimetype": "text/x-python",
   "name": "python",
   "nbconvert_exporter": "python",
   "pygments_lexer": "ipython3",
   "version": "3.12.1"
  }
 },
 "nbformat": 4,
 "nbformat_minor": 2
}
