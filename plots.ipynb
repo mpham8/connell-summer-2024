{
 "cells": [
  {
   "cell_type": "markdown",
   "metadata": {},
   "source": [
    "Import Libraries"
   ]
  },
  {
   "cell_type": "code",
   "execution_count": 4,
   "metadata": {},
   "outputs": [],
   "source": [
    "import scipy.io\n",
    "import matplotlib.pyplot as plt\n",
    "import seaborn as sns\n",
    "import pandas as pd"
   ]
  },
  {
   "cell_type": "markdown",
   "metadata": {},
   "source": [
    "File/Variable Name config"
   ]
  },
  {
   "cell_type": "code",
   "execution_count": 5,
   "metadata": {},
   "outputs": [],
   "source": [
    "files = ['just_dshock_h.mat', 'just_policy_h.mat', 'dshock_policy_h.mat'] \n",
    "variables = ['C', 'IK', 'IH', 'K', 'H', 'Y', 'R', 'D', 'HTOK'] \n",
    "experiment_names = ['Debt Relief Only', 'Policy Reform Only', 'Debt Relief & Policy Reform']\n",
    "title = {'C': 'Consumption (C)', \n",
    "         'IK': 'Gross Physical Capital Investment (IK)', \n",
    "         'IH': 'Gross Human Capital Investment (IH)', \n",
    "         'K': 'Physical Capital (K)', \n",
    "         'H': 'Human Capital (H)', \n",
    "         'Y': 'Output (Y)', \n",
    "         'R': 'Domestic Interest Rate (r, %)', \n",
    "         'D': 'External Debt (D)', \n",
    "         'HTOK': 'Ratio of Human Capital to Physical Capital (H/K)'\n",
    "}\n",
    "\n",
    "color_pallete = {\n",
    "    'Debt Relief Only': 'red',\n",
    "    'Policy Reform Only': 'black',\n",
    "    'Debt Relief & Policy Reform': 'navy'\n",
    "}\n",
    "\n",
    "line_styles = {\n",
    "    'Debt Relief Only': '-',  # Dotted line\n",
    "    'Policy Reform Only': '-',  # Solid line\n",
    "    'Debt Relief & Policy Reform': '--'  # Dashed line\n",
    "}\n",
    "\n",
    "markers = {\n",
    "    'Debt Relief Only': 'o',  # Circle markers\n",
    "    'Policy Reform Only': '',\n",
    "    'Debt Relief & Policy Reform': ''\n",
    "}"
   ]
  },
  {
   "cell_type": "markdown",
   "metadata": {},
   "source": [
    "Plot"
   ]
  },
  {
   "cell_type": "code",
   "execution_count": 6,
   "metadata": {},
   "outputs": [
    {
     "ename": "KeyError",
     "evalue": "'IK'",
     "output_type": "error",
     "traceback": [
      "\u001b[0;31m---------------------------------------------------------------------------\u001b[0m",
      "\u001b[0;31mKeyError\u001b[0m                                  Traceback (most recent call last)",
      "Cell \u001b[0;32mIn[6], line 6\u001b[0m\n\u001b[1;32m      4\u001b[0m data \u001b[38;5;241m=\u001b[39m scipy\u001b[38;5;241m.\u001b[39mio\u001b[38;5;241m.\u001b[39mloadmat(file)\n\u001b[1;32m      5\u001b[0m \u001b[38;5;28;01mfor\u001b[39;00m var \u001b[38;5;129;01min\u001b[39;00m variables:\n\u001b[0;32m----> 6\u001b[0m     df \u001b[38;5;241m=\u001b[39m pd\u001b[38;5;241m.\u001b[39mDataFrame(\u001b[43mdata\u001b[49m\u001b[43m[\u001b[49m\u001b[43mvar\u001b[49m\u001b[43m]\u001b[49m)\n\u001b[1;32m      7\u001b[0m     df[\u001b[38;5;124m'\u001b[39m\u001b[38;5;124mExperiment\u001b[39m\u001b[38;5;124m'\u001b[39m] \u001b[38;5;241m=\u001b[39m exp_name\n\u001b[1;32m      8\u001b[0m     df[\u001b[38;5;124m'\u001b[39m\u001b[38;5;124mIndex\u001b[39m\u001b[38;5;124m'\u001b[39m] \u001b[38;5;241m=\u001b[39m df\u001b[38;5;241m.\u001b[39mindex  \u001b[38;5;66;03m# Assuming index can be used as x-axis\u001b[39;00m\n",
      "\u001b[0;31mKeyError\u001b[0m: 'IK'"
     ]
    }
   ],
   "source": [
    "dfs = {var: pd.DataFrame() for var in variables}\n",
    "\n",
    "for file, exp_name in zip(files, experiment_names):\n",
    "    data = scipy.io.loadmat(file)\n",
    "    for var in variables:\n",
    "        df = pd.DataFrame(data[var])\n",
    "        df['Experiment'] = exp_name\n",
    "        df['Index'] = df.index  # Assuming index can be used as x-axis\n",
    "        dfs[var] = pd.concat([dfs[var], df], ignore_index=True)\n",
    "        \n",
    "# Plot the data in a 3x3 grid\n",
    "fig, axes = plt.subplots(3, 3, figsize=(15, 15))\n",
    "axes = axes.flatten()\n",
    "\n",
    "for i, var in enumerate(variables):\n",
    "    ax = axes[i]\n",
    "    \n",
    "    for exp_name in experiment_names:\n",
    "        exp_data = dfs[var][dfs[var]['Experiment'] == exp_name]\n",
    "        sns.lineplot(\n",
    "            data=exp_data,\n",
    "            x='Index',\n",
    "            y=0,  # Adjust y to the correct column if needed\n",
    "            label=exp_name,\n",
    "            color=color_pallete[exp_name],\n",
    "            linestyle=line_styles[exp_name],\n",
    "            marker=markers[exp_name] if markers[exp_name] else None,\n",
    "            ax=ax\n",
    "        )\n",
    "        \n",
    "    ax.set_title(title[var])\n",
    "    ax.set_xlabel('Time (Years)')  \n",
    "    ax.set_ylabel('Deviation (%)')  \n",
    "    ax.grid(True)\n",
    "    ax.set_xlim(-1, 25)  # Set the x-axis limits\n",
    "\n",
    "plt.tight_layout()\n",
    "plt.show()"
   ]
  }
 ],
 "metadata": {
  "kernelspec": {
   "display_name": "Python 3",
   "language": "python",
   "name": "python3"
  },
  "language_info": {
   "codemirror_mode": {
    "name": "ipython",
    "version": 3
   },
   "file_extension": ".py",
   "mimetype": "text/x-python",
   "name": "python",
   "nbconvert_exporter": "python",
   "pygments_lexer": "ipython3",
   "version": "3.12.1"
  }
 },
 "nbformat": 4,
 "nbformat_minor": 2
}
