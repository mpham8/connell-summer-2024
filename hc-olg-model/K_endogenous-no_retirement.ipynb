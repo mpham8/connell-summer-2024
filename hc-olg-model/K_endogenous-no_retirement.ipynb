{
 "cells": [
  {
   "cell_type": "code",
   "execution_count": 43,
   "metadata": {},
   "outputs": [],
   "source": [
    "import numpy as np\n",
    "from scipy import interpolate\n",
    "import time\n",
    "import math\n",
    "import matplotlib.pyplot as plt\n",
    "from misc.golden_section_search import Search"
   ]
  },
  {
   "cell_type": "code",
   "execution_count": null,
   "metadata": {},
   "outputs": [],
   "source": [
    "\"\"\"\n",
    "Michael Pham\n",
    "July 2024\n",
    "\n",
    "heavy inspiration from Prof. Heer from Ch. 10.1.2 in Heer/Maussner, Dynamic General Equilibrium Modeling: Computational\n",
    "Methods and Applications, Algorithm 10.1.1\n",
    "\"\"\""
   ]
  },
  {
   "cell_type": "code",
   "execution_count": 44,
   "metadata": {},
   "outputs": [],
   "source": [
    "exp = np.e\n",
    "log = math.log"
   ]
  },
  {
   "cell_type": "code",
   "execution_count": 45,
   "metadata": {},
   "outputs": [],
   "source": [
    "# Parameters - households and firms\n",
    "beta = 0.95  # discount factor\n",
    "eta = 2.0    # coefficient of relative risk aversion\n",
    "gamma = 0.5  # disutility from working\n",
    "alpha = 0.33 # capital share in production\n",
    "delta = 0.1  # depreciation rate\n",
    "# omega = 0.1  # parent education time factor\n",
    "# phi_p = 0.5  # share of parental input in education\n",
    "# psi_e = 0.5  # CES parameter for education inputs\n",
    "# theta_I = 0.7  # human capital investment effectiveness\n",
    "tfp = 1      #total factor productivity\n",
    "small = 0.00001\n",
    "neg = -1e10\n",
    "\n",
    "#Parameters - government\n",
    "tau = 0.15\n",
    "# Ie_gdp = 0.02 # public education investment as percent of GDP\n",
    "# Iz_gdp = 0.04 # public infrastructure investment as percent of GDP percent of GDP\n",
    "sigma_bar = 0.2  # public investment inefficiency\n",
    "G_gdp = 0.1      # grants (as a fraction of GDP)\n",
    "# psi = 0.1    # public infrastructure elasticity\n",
    "# nu = 0.6     # debt-to-GDP ratio limit\n",
    "\n",
    "# Initial guesses\n",
    "# K_init = 1\n",
    "# H_init = 1\n",
    "# L_init = 0.2\n",
    "# Z_init = 1\n",
    "# tau_init = 0.15  # Initial guess for tax rate\n",
    "# T_init = 0.1  # Initial guess for transfers\n",
    "# D_init = 0\n",
    "\n",
    "# Grid spec\n",
    "na = 200  # number of points in capital grid\n",
    "# nH = 20   # number of points in human capital grid\n",
    "# nZ = 20   # number of points in public infrastructure grid\n",
    "# Kmin = 0\n",
    "# Kmax = 10\n",
    "# Hmin = 0\n",
    "# Hmax = 10\n",
    "# Zmin = 0\n",
    "# Zmax = 10\n",
    "\n",
    "k_min, k_max = 0, 10\n",
    "K_grid =  np.linspace(k_min, k_max, na)   # asset grid \n",
    "k_eps = (K_grid[1]-K_grid[0])/na    #  test for corner solution\n",
    "phi = 0.8           # updating of the aggregate capital stock K in outer loop\n",
    "tolerance = 0.001        # percentage deviation of final solution \n",
    "tolerance_gs = 1e-10        # tolerance for golden section search \n",
    "max_iters = 30             # maximum number of iteration over K\n",
    "\n",
    "# Number of periods\n",
    "periods = 40\n",
    "child_periods = 18"
   ]
  },
  {
   "cell_type": "code",
   "execution_count": 46,
   "metadata": {},
   "outputs": [],
   "source": [
    "h_init = 1\n",
    "l_init = 0.2\n",
    "r_init = beta**(-1) - 1"
   ]
  },
  {
   "cell_type": "code",
   "execution_count": 47,
   "metadata": {},
   "outputs": [],
   "source": [
    "def production(K_prev, H, L):\n",
    "    \"\"\"\n",
    "    production function (eq 1 mod)\n",
    "\n",
    "    params: K_t-1, H_t, L_t\n",
    "    returns: Y\n",
    "    \"\"\"\n",
    "    return tfp * K_prev**alpha * (H*L)**(1-alpha)\n",
    "\n",
    "def wage_rate(K_prev, H, L):\n",
    "    \"\"\"\n",
    "    marginal product of labor (eq 2 mod)\n",
    "\n",
    "    params: K_t-1, H_t, L_t\n",
    "    returns: w_t\n",
    "    \"\"\"\n",
    "    return H * tfp * (1-alpha) * (K_prev)**alpha * (H*L)**(-alpha)\n",
    "\n",
    "def interest_rate(K_prev, H, L):\n",
    "    \"\"\"\n",
    "    marginal product of capital minus depreciation (eq 3 mod + interest steady state)\n",
    "\n",
    "    params: K_t-1, H_t, L_t\n",
    "    returns: r_t \n",
    "    \"\"\"\n",
    "    return tfp * alpha * (H*L)**(1-alpha) * K_prev**(alpha-1) - delta"
   ]
  },
  {
   "cell_type": "code",
   "execution_count": 48,
   "metadata": {},
   "outputs": [],
   "source": [
    "def transfer(K_prev, H, L, G, tau, w, r):\n",
    "  \"\"\"\n",
    "  government budget (eq 6 mod)\n",
    "  assumes balanced budget, no borrowing\n",
    "\n",
    "  params: K_t-1, H_t, L_t, G, tau, w_t, r_t\n",
    "  returns: T (transfers)\n",
    "  \"\"\"\n",
    "  tax_revenue = tau*w*H*L + tau*r*K_prev\n",
    "  T = tax_revenue + G\n",
    "  return T"
   ]
  },
  {
   "cell_type": "code",
   "execution_count": 49,
   "metadata": {},
   "outputs": [],
   "source": [
    "def utility(c, l):\n",
    "  \"\"\"\n",
    "  household utility function (eq 8)\n",
    "  adds modified case of when full labor, so utility is not 0\n",
    "\n",
    "  params: c_t, l_t\n",
    "  returns: utility\n",
    "  \"\"\"\n",
    "  if l == 1:\n",
    "    return np.log(c+ small) + gamma * np.log(l)\n",
    "  return (((c+small) * (1-l) ** gamma) ** (1-eta) - 1) / (1-eta)\n",
    "\n",
    "def next_value_function(k):\n",
    "  return vr_polate(k)\n",
    "\n",
    "def value_function(k, k_prev, c, l, h, w, r, tau, T):\n",
    "  \"\"\"\n",
    "  household bellman equation (eq 14)\n",
    "  \n",
    "  params: k_t, k_t-1, c_t, l_t, h_t, w_t, r_t, tau, T\n",
    "  returns: value of this period's bellman equation\n",
    "  \"\"\"\n",
    "  c = (1-tau)*w*h*l + (1+r)*k_prev - tau*r*max(k_prev, 0) + T\n",
    "  if c <= 0:\n",
    "    return neg\n",
    "  return utility(c, l) + beta * next_value_function(k)\n"
   ]
  },
  {
   "cell_type": "code",
   "execution_count": 50,
   "metadata": {},
   "outputs": [
    {
     "data": {
      "text/plain": [
       "0.6321720398144471"
      ]
     },
     "execution_count": 50,
     "metadata": {},
     "output_type": "execute_result"
    }
   ],
   "source": [
    "#initialize steady state variable predictions\n",
    "L_bar = l_init #refers to guess of L in this period\n",
    "H_bar = h_init #refers to guess of H in this period\n",
    "K_bar = ((r_init + delta)/(alpha*tfp))**(1/(alpha-1)) * (H_bar * L_bar) #refers to guess of K in prev period\n",
    "L_old = L_bar + 2\n",
    "H_old = H_bar + 100\n",
    "K_old = K_bar + 100\n",
    "\n",
    "h = 1\n",
    "l = 0.2\n",
    "\n",
    "K_bar"
   ]
  },
  {
   "cell_type": "code",
   "execution_count": 51,
   "metadata": {},
   "outputs": [
    {
     "name": "stdout",
     "output_type": "stream",
     "text": [
      "iter: 0; K change: 158.18; H change: 158.18; L change: 158.18\n",
      "iter: 0; K: 0.63; H: 1.00; L: 0.20\n",
      "iter: 0; Y: 0.29; tau: 0.15; T: 0.03\n"
     ]
    }
   ],
   "source": [
    "iteration = -1\n",
    "K_diff = 1 + tolerance\n",
    "state_var_iter_array = np.zeros((max_iters,3))\n",
    "\n",
    "#loop while max_iters not exceeded and difference between this K guess and previous K guess is greater than acceptable tolerance\n",
    "while iteration < max_iters - 1 and K_diff > tolerance:\n",
    "  iteration += 1\n",
    "  K_diff = abs((K_bar - K_old) / K_bar)\n",
    "  H_diff = abs((K_bar - K_old) / K_bar)\n",
    "  L_diff = abs((K_bar - K_old) / K_bar)\n",
    "  print(f\"iter: {iteration}; K change: {K_diff:.2f}; H change: {H_diff:.2f}; L change: {L_diff:.2f}\")\n",
    "\n",
    "  #calculate variables\n",
    "  w = wage_rate(K_prev = K_bar, H = H_bar, L = L_bar)\n",
    "  r = interest_rate(K_prev = K_bar, H = H_bar, L = L_bar)\n",
    "  Y = production(K_prev = K_bar, H = H_bar, L = L_bar)\n",
    "  grants = G_gdp * Y\n",
    "  T = transfer(K_prev = K_bar, H = H_bar, L = L_bar, G = grants, tau = tau, w = w, r = r)\n",
    "\n",
    "  print(f\"iter: {iteration}; K: {K_bar:.2f}; H: {H_bar:.2f}; L: {L_bar:.2f}\")\n",
    "  print(f\"iter: {iteration}; Y: {Y:.2f}; tau: {tau:.2f}; T: {T:.2f}\")\n",
    "\n",
    "  #set the old state variables to be previous iteration state variables\n",
    "  K_old = K_bar\n",
    "  H_hold = H_bar\n",
    "  L_old = L_bar\n",
    "  state_var_iter_array[iteration, 0] = K_old\n",
    "  state_var_iter_array[iteration, 1] = H_old\n",
    "  state_var_iter_array[iteration, 2] = L_old\n",
    "\n",
    "  value_array = np.zeros((na, periods)) #initialize the agents' value function array\n",
    "  k_optimal_array = np.zeros((na, periods)) #initialize the optimal capital array\n",
    "  c_optimal_array = np.zeros((na, periods)) #initialize the optimal consumption array\n",
    "  l_optimal_array = np.zeros((na, periods)) #initialize the optimal labor array\n",
    "  h_optimal_array = np.zeros((na, periods)) #initialize the optimal child human capital array\n",
    "  hc_optimal_array = np.zeros((na, child_periods)) #initialize the optimal child human capital array\n",
    "\n",
    "\n",
    "  #compute last period value function st eq. 15\n",
    "  # for i in range(na):\n",
    "  #   c = (1-tau)*w*h*l + (1+r)*k_prev - max(0, tau * r * k_prev) + T - k \n",
    "  #   value_array[i, periods - 1] = utility(k)\n",
    "  #   c_optimal_array[i, periods - 1]\n",
    "\n",
    "  #compute policy function\n",
    "\n",
    "\n",
    "  break\n",
    "\n"
   ]
  }
 ],
 "metadata": {
  "kernelspec": {
   "display_name": "Python 3",
   "language": "python",
   "name": "python3"
  },
  "language_info": {
   "codemirror_mode": {
    "name": "ipython",
    "version": 3
   },
   "file_extension": ".py",
   "mimetype": "text/x-python",
   "name": "python",
   "nbconvert_exporter": "python",
   "pygments_lexer": "ipython3",
   "version": "3.12.1"
  }
 },
 "nbformat": 4,
 "nbformat_minor": 2
}
