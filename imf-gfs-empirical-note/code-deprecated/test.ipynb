{
 "cells": [
  {
   "cell_type": "code",
   "execution_count": 6,
   "metadata": {},
   "outputs": [],
   "source": [
    "import requests\n",
    "import json\n"
   ]
  },
  {
   "cell_type": "code",
   "execution_count": 7,
   "metadata": {},
   "outputs": [
    {
     "name": "stdout",
     "output_type": "stream",
     "text": [
      "{\n",
      "    \"ErrorDetails\": {\n",
      "        \"@schemaLocation\": \"http://dataservices.imf.org/schemas/Error http://dataservices.imf.org/schemas/Error.xsd\",\n",
      "        \"Code\": \"413\",\n",
      "        \"Message\": \"The query results in more than the supported maximum number of time series in one request. Please change your query.\",\n",
      "        \"HelpLink\": \"http://datahelp.imf.org/knowledgebase/articles/937155-how-to-query-large-datasets-with-data-services\"\n",
      "    }\n",
      "}\n"
     ]
    }
   ],
   "source": [
    "def get_imf_statement_of_operations(country):\n",
    "    # IMF API base URL\n",
    "    base_url = \"http://dataservices.imf.org/REST/SDMX_JSON.svc/\"\n",
    "    \n",
    "    # Endpoint for the Statement of Government Operations dataset\n",
    "    endpoint = \"CompactData/IFS\"\n",
    "\n",
    "    # Construct the query\n",
    "    # This query may need adjustment based on the exact structure of the IMF's API and dataset identifiers\n",
    "    query = f\"{endpoint}/?Country={country}&startPeriod=2010&endPeriod=2019\"\n",
    "    \n",
    "    # Send the GET request to the IMF API\n",
    "    response = requests.get(base_url + query)\n",
    "    \n",
    "    # Check if the request was successful\n",
    "    if response.status_code == 200:\n",
    "        # Parse the JSON response\n",
    "        data = response.json()\n",
    "        return data\n",
    "    else:\n",
    "        print(f\"Failed to fetch data. Status code: {response.status_code}\")\n",
    "        return None\n",
    "\n",
    "# Example usage\n",
    "country_code = \"US\"  # Replace with the desired country code\n",
    "data = get_imf_statement_of_operations(country_code)\n",
    "\n",
    "if data:\n",
    "    print(json.dumps(data, indent=4))"
   ]
  }
 ],
 "metadata": {
  "kernelspec": {
   "display_name": "Python 3",
   "language": "python",
   "name": "python3"
  },
  "language_info": {
   "codemirror_mode": {
    "name": "ipython",
    "version": 3
   },
   "file_extension": ".py",
   "mimetype": "text/x-python",
   "name": "python",
   "nbconvert_exporter": "python",
   "pygments_lexer": "ipython3",
   "version": "3.12.1"
  }
 },
 "nbformat": 4,
 "nbformat_minor": 2
}
